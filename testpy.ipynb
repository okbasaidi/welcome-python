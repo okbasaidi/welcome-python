{
  "nbformat": 4,
  "nbformat_minor": 0,
  "metadata": {
    "colab": {
      "name": "testpy.ipynb",
      "provenance": [],
      "collapsed_sections": []
    },
    "kernelspec": {
      "name": "python3",
      "display_name": "Python 3"
    },
    "language_info": {
      "name": "python"
    }
  },
  "cells": [
    {
      "cell_type": "markdown",
      "source": [
        ""
      ],
      "metadata": {
        "id": "AcXv4uClySKk"
      }
    },
    {
      "cell_type": "code",
      "source": [
        "print(\"Welcome to python world! Let's start coding\")"
      ],
      "metadata": {
        "colab": {
          "base_uri": "https://localhost:8080/"
        },
        "id": "tn6j7iw-vyiE",
        "outputId": "ccadb73e-1499-453d-d268-b60b3b463b28"
      },
      "execution_count": 1,
      "outputs": [
        {
          "output_type": "stream",
          "name": "stdout",
          "text": [
            "Welcome to python world! Let's start coding\n"
          ]
        }
      ]
    },
    {
      "cell_type": "markdown",
      "source": [
        "extansion.ipynb"
      ],
      "metadata": {
        "id": "J_a95wlhw6Qw"
      }
    }
  ]
}